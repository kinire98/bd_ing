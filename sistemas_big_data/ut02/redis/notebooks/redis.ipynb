{
 "cells": [
  {
   "cell_type": "markdown",
   "id": "4b442a59",
   "metadata": {},
   "source": [
    "# Cuaderno de Redis\n",
    "Instalar en arch linux con el administrador de paquetes propio"
   ]
  },
  {
   "cell_type": "code",
   "execution_count": 1,
   "id": "a8e9cd07",
   "metadata": {},
   "outputs": [],
   "source": [
    "# sudo pacman -S python-redis"
   ]
  },
  {
   "cell_type": "markdown",
   "id": "598afcc0",
   "metadata": {},
   "source": [
    "Si se utilizase otro entorno:"
   ]
  },
  {
   "cell_type": "code",
   "execution_count": null,
   "id": "c1d5d1f3",
   "metadata": {},
   "outputs": [],
   "source": [
    "# pip install redis"
   ]
  },
  {
   "cell_type": "markdown",
   "id": "9d1f7738",
   "metadata": {},
   "source": [
    "Importar Redis para que esté disponible para el resto de celdas"
   ]
  },
  {
   "cell_type": "code",
   "execution_count": 2,
   "id": "dbacc32b",
   "metadata": {},
   "outputs": [],
   "source": [
    "import redis"
   ]
  },
  {
   "cell_type": "markdown",
   "id": "e70b7574",
   "metadata": {},
   "source": [
    "Configuración de redis. Al estar en local jupyter pondré localhost para que utilice el mapeo de puertos. Si jupyter estuviera en el contenedor pondría el nombre del contenedor"
   ]
  },
  {
   "cell_type": "code",
   "execution_count": 3,
   "id": "700c998d",
   "metadata": {},
   "outputs": [],
   "source": [
    "r = redis.Redis(\n",
    "    host='localhost', # aqui redis si jupyter ejecutandose en un contenedor\n",
    "    port=6379,\n",
    "    db=0,\n",
    "    decode_responses=True\n",
    ")"
   ]
  },
  {
   "cell_type": "markdown",
   "id": "44b43303",
   "metadata": {},
   "source": [
    "Comprobar conectividad. Si devuelve True, existe la conectividad"
   ]
  },
  {
   "cell_type": "code",
   "execution_count": 4,
   "id": "c343e1a9",
   "metadata": {},
   "outputs": [
    {
     "data": {
      "text/plain": [
       "True"
      ]
     },
     "execution_count": 4,
     "metadata": {},
     "output_type": "execute_result"
    }
   ],
   "source": [
    "r.ping()"
   ]
  },
  {
   "cell_type": "markdown",
   "id": "e562610e",
   "metadata": {},
   "source": [
    "Para guardar un valor en redis con el nombre de la variable que guarde el conector (en este caso es `r`), ejecutar el método set. El primer parámetro sera la clave y el segundo el valor.\n",
    "```python\n",
    "r.set(clave, valor)\n",
    "```\n",
    "Devolverá `True` si la operación fue exitosa y `False` en el caso contrario."
   ]
  },
  {
   "cell_type": "code",
   "execution_count": 6,
   "id": "df27b6c4",
   "metadata": {},
   "outputs": [
    {
     "data": {
      "text/plain": [
       "True"
      ]
     },
     "execution_count": 6,
     "metadata": {},
     "output_type": "execute_result"
    }
   ],
   "source": [
    "r.set(\"ciclo\", \"Especializacion IA y Big Data\")"
   ]
  },
  {
   "cell_type": "markdown",
   "id": "54779aaf",
   "metadata": {},
   "source": [
    "Para obtener el valor de la clave, en el conector ejecutamos lo siguiente:\n",
    "```python\n",
    "r.get(clave)\n",
    "```\n",
    "Devolverá el valor en caso de que exista y `None` en caso contrario."
   ]
  },
  {
   "cell_type": "code",
   "execution_count": null,
   "id": "08d6fb9b",
   "metadata": {},
   "outputs": [
    {
     "name": "stdout",
     "output_type": "stream",
     "text": [
      "None\n"
     ]
    }
   ],
   "source": [
    "print(r.get(\"ciclo\"))"
   ]
  },
  {
   "cell_type": "markdown",
   "id": "88e63386",
   "metadata": {},
   "source": [
    "## Tiempos de expiración\n",
    "Si quisiéramos que un valor caducase:\n",
    "\n",
    "```python\n",
    "r.set(clave, valor, ex=tiempo_expiracion_segundos)\n",
    "```\n",
    "\n",
    "Pasado el tiempo de expiración devolverá `None`"
   ]
  },
  {
   "cell_type": "code",
   "execution_count": 9,
   "id": "8a75957b",
   "metadata": {},
   "outputs": [
    {
     "data": {
      "text/plain": [
       "True"
      ]
     },
     "execution_count": 9,
     "metadata": {},
     "output_type": "execute_result"
    }
   ],
   "source": [
    "r.set(\"curso_tmp\", \"curso_tmp\", ex=10)"
   ]
  },
  {
   "cell_type": "code",
   "execution_count": 10,
   "id": "18b08113",
   "metadata": {},
   "outputs": [
    {
     "name": "stdout",
     "output_type": "stream",
     "text": [
      "curso_tmp\n"
     ]
    }
   ],
   "source": [
    "print(r.get(\"curso_tmp\"))"
   ]
  },
  {
   "cell_type": "code",
   "execution_count": 11,
   "id": "5186311f",
   "metadata": {},
   "outputs": [
    {
     "name": "stdout",
     "output_type": "stream",
     "text": [
      "None\n"
     ]
    }
   ],
   "source": [
    "import time\n",
    "time.sleep(10)\n",
    "print(r.get(\"curso_tmp\"))"
   ]
  },
  {
   "cell_type": "markdown",
   "id": "2294bc46",
   "metadata": {},
   "source": [
    "## `Keys <pattern>`\n",
    "\n",
    "Si ejecuto `KEYS user:*`, devolver'a todo lo que conforme dicho patron, p.e., `user:nombre`, `user:apellido`. Las claves se suelen guardar como `objeto:id:atributo`."
   ]
  },
  {
   "cell_type": "code",
   "execution_count": 12,
   "id": "3b8b20a8",
   "metadata": {},
   "outputs": [
    {
     "name": "stdout",
     "output_type": "stream",
     "text": [
      "['prueba2', 'prueba1', 'prueba3']\n"
     ]
    }
   ],
   "source": [
    "r.set(\"prueba1\", 1, ex=5)\n",
    "r.set(\"prueba2\", 2, ex=5)\n",
    "r.set(\"prueba3\", 3, ex=5)\n",
    "r.set(\"preba2\", 2, ex=5)\n",
    "\n",
    "print(r.keys(\"prueba*\"))"
   ]
  },
  {
   "cell_type": "markdown",
   "id": "156f256f",
   "metadata": {},
   "source": [
    "## exists\n",
    "Comprobar si existe una clave. Devuelve `1` si existe y `0` en el caso contrario."
   ]
  },
  {
   "cell_type": "code",
   "execution_count": 14,
   "id": "c13272da",
   "metadata": {},
   "outputs": [
    {
     "name": "stdout",
     "output_type": "stream",
     "text": [
      "1\n",
      "0\n"
     ]
    }
   ],
   "source": [
    "r.set(\"prueba1\", 1, ex=5)\n",
    "print(r.exists(\"prueba1\"))\n",
    "print(r.exists(\"prueba0\"))"
   ]
  },
  {
   "cell_type": "markdown",
   "id": "d349c8ef",
   "metadata": {},
   "source": [
    "## delete\n",
    "Borra una clave. Si existe devuelve un `1` y `0` en el caso contrario."
   ]
  },
  {
   "cell_type": "code",
   "execution_count": 17,
   "id": "73708f4c",
   "metadata": {},
   "outputs": [
    {
     "name": "stdout",
     "output_type": "stream",
     "text": [
      "1\n",
      "1\n",
      "0\n"
     ]
    }
   ],
   "source": [
    "r.set(\"prueba1\", 1)\n",
    "print(r.get(\"prueba1\"))\n",
    "print(r.delete(\"prueba1\"))\n",
    "print(r.delete(\"prueba1\"))"
   ]
  }
 ],
 "metadata": {
  "kernelspec": {
   "display_name": "Python 3 (ipykernel)",
   "language": "python",
   "name": "python3"
  },
  "language_info": {
   "codemirror_mode": {
    "name": "ipython",
    "version": 3
   },
   "file_extension": ".py",
   "mimetype": "text/x-python",
   "name": "python",
   "nbconvert_exporter": "python",
   "pygments_lexer": "ipython3",
   "version": "3.13.7"
  }
 },
 "nbformat": 4,
 "nbformat_minor": 5
}
