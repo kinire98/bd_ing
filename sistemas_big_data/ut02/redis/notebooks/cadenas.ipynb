{
 "cells": [
  {
   "cell_type": "code",
   "execution_count": 2,
   "id": "0413e889",
   "metadata": {},
   "outputs": [],
   "source": [
    "import redis\n",
    "r = redis.Redis(\n",
    "    host='localhost',\n",
    "    port=6379,\n",
    "    db=0,\n",
    "    decode_responses=True\n",
    ")"
   ]
  },
  {
   "cell_type": "markdown",
   "id": "cc23cbed",
   "metadata": {},
   "source": [
    "### Ejercicio 1"
   ]
  },
  {
   "cell_type": "code",
   "execution_count": 4,
   "id": "60745f44",
   "metadata": {},
   "outputs": [
    {
     "data": {
      "text/plain": [
       "True"
      ]
     },
     "execution_count": 4,
     "metadata": {},
     "output_type": "execute_result"
    }
   ],
   "source": [
    "r.set(\"app:version\", \"1.0\")"
   ]
  },
  {
   "cell_type": "markdown",
   "id": "b997a1ad",
   "metadata": {},
   "source": [
    "### Ejercicio 2"
   ]
  },
  {
   "cell_type": "code",
   "execution_count": 5,
   "id": "8152c1cd",
   "metadata": {},
   "outputs": [
    {
     "data": {
      "text/plain": [
       "'1.0'"
      ]
     },
     "execution_count": 5,
     "metadata": {},
     "output_type": "execute_result"
    }
   ],
   "source": [
    "r.get(\"app:version\")"
   ]
  },
  {
   "cell_type": "markdown",
   "id": "bbb7c153",
   "metadata": {},
   "source": [
    "### Ejercicio 3"
   ]
  },
  {
   "cell_type": "code",
   "execution_count": 6,
   "id": "a3a82742",
   "metadata": {},
   "outputs": [
    {
     "data": {
      "text/plain": [
       "True"
      ]
     },
     "execution_count": 6,
     "metadata": {},
     "output_type": "execute_result"
    }
   ],
   "source": [
    "r.set(\"app:version\", \"1.1\")"
   ]
  },
  {
   "cell_type": "markdown",
   "id": "0a30ed5c",
   "metadata": {},
   "source": [
    "### Ejercicio 4"
   ]
  },
  {
   "cell_type": "code",
   "execution_count": 7,
   "id": "0e7ff8cd",
   "metadata": {},
   "outputs": [
    {
     "data": {
      "text/plain": [
       "True"
      ]
     },
     "execution_count": 7,
     "metadata": {},
     "output_type": "execute_result"
    }
   ],
   "source": [
    "r.set(\"contador:descargas\", 0)"
   ]
  },
  {
   "cell_type": "markdown",
   "id": "ec6a6189",
   "metadata": {},
   "source": [
    "### Ejercicio 5"
   ]
  },
  {
   "cell_type": "code",
   "execution_count": null,
   "id": "55889e52",
   "metadata": {},
   "outputs": [
    {
     "data": {
      "text/plain": [
       "5"
      ]
     },
     "execution_count": 8,
     "metadata": {},
     "output_type": "execute_result"
    }
   ],
   "source": [
    "r.incrby(\"contador:descargas\", 5)"
   ]
  },
  {
   "cell_type": "markdown",
   "id": "0d6c2d9f",
   "metadata": {},
   "source": [
    "### Ejercicio 6"
   ]
  },
  {
   "cell_type": "code",
   "execution_count": 10,
   "id": "f4946f28",
   "metadata": {},
   "outputs": [
    {
     "data": {
      "text/plain": [
       "3"
      ]
     },
     "execution_count": 10,
     "metadata": {},
     "output_type": "execute_result"
    }
   ],
   "source": [
    "r.decrby(\"contador:descargas\", 2)"
   ]
  },
  {
   "cell_type": "markdown",
   "id": "ef796462",
   "metadata": {},
   "source": [
    "### Ejercicio 7"
   ]
  },
  {
   "cell_type": "code",
   "execution_count": 11,
   "id": "d36fb0fb",
   "metadata": {},
   "outputs": [
    {
     "data": {
      "text/plain": [
       "True"
      ]
     },
     "execution_count": 11,
     "metadata": {},
     "output_type": "execute_result"
    }
   ],
   "source": [
    "r.set(\"app:estado\", \"activo\")"
   ]
  },
  {
   "cell_type": "markdown",
   "id": "cce446b8",
   "metadata": {},
   "source": [
    "### Ejercicio 8"
   ]
  },
  {
   "cell_type": "code",
   "execution_count": 13,
   "id": "827d3c2b",
   "metadata": {},
   "outputs": [
    {
     "data": {
      "text/plain": [
       "True"
      ]
     },
     "execution_count": 13,
     "metadata": {},
     "output_type": "execute_result"
    }
   ],
   "source": [
    "r.set(\"app:estado\", \"mantenimiento\")"
   ]
  },
  {
   "cell_type": "markdown",
   "id": "b6dfae8f",
   "metadata": {},
   "source": [
    "### Ejercicio 9"
   ]
  },
  {
   "cell_type": "code",
   "execution_count": 12,
   "id": "b6a9bbf0",
   "metadata": {},
   "outputs": [
    {
     "data": {
      "text/plain": [
       "True"
      ]
     },
     "execution_count": 12,
     "metadata": {},
     "output_type": "execute_result"
    }
   ],
   "source": [
    "r.set(\"mensaje:bienvenida\", \"Hola alumno\")"
   ]
  },
  {
   "cell_type": "markdown",
   "id": "199ef2d6",
   "metadata": {},
   "source": [
    "### Ejercicio 10"
   ]
  },
  {
   "cell_type": "code",
   "execution_count": null,
   "id": "2f6cf3a0",
   "metadata": {},
   "outputs": [],
   "source": [
    "r.expire(\"app:estado\", 30)"
   ]
  },
  {
   "cell_type": "markdown",
   "id": "227dbe64",
   "metadata": {},
   "source": [
    "### Ejercicio 11"
   ]
  },
  {
   "cell_type": "code",
   "execution_count": null,
   "id": "8a48e2f6",
   "metadata": {},
   "outputs": [
    {
     "name": "stdout",
     "output_type": "stream",
     "text": [
      "None\n"
     ]
    }
   ],
   "source": [
    "import time\n",
    "time.sleep(30)\n",
    "print(r.get(\"app:estado\"))"
   ]
  },
  {
   "cell_type": "markdown",
   "id": "68f14a27",
   "metadata": {},
   "source": [
    "### Ejercicio 12"
   ]
  },
  {
   "cell_type": "code",
   "execution_count": null,
   "id": "c78eda61",
   "metadata": {},
   "outputs": [
    {
     "ename": "_IncompleteInputError",
     "evalue": "incomplete input (2212095374.py, line 4)",
     "output_type": "error",
     "traceback": [
      "  \u001b[36mCell\u001b[39m\u001b[36m \u001b[39m\u001b[32mIn[17]\u001b[39m\u001b[32m, line 4\u001b[39m\n\u001b[31m    \u001b[39m\u001b[31melse:\u001b[39m\n         ^\n\u001b[31m_IncompleteInputError\u001b[39m\u001b[31m:\u001b[39m incomplete input\n"
     ]
    }
   ],
   "source": [
    "result = r.delete(\"app:version\")\n",
    "if result == 1:\n",
    "    print(\"Eliminado con exito\")\n",
    "else:\n",
    "    print(\"No existe\")"
   ]
  },
  {
   "cell_type": "code",
   "execution_count": null,
   "id": "43e787e7",
   "metadata": {},
   "outputs": [],
   "source": []
  }
 ],
 "metadata": {
  "kernelspec": {
   "display_name": "Python 3 (ipykernel)",
   "language": "python",
   "name": "python3"
  },
  "language_info": {
   "codemirror_mode": {
    "name": "ipython",
    "version": 3
   },
   "file_extension": ".py",
   "mimetype": "text/x-python",
   "name": "python",
   "nbconvert_exporter": "python",
   "pygments_lexer": "ipython3",
   "version": "3.13.7"
  }
 },
 "nbformat": 4,
 "nbformat_minor": 5
}
